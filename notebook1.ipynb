{
 "cells": [
  {
   "cell_type": "code",
   "execution_count": 1,
   "metadata": {},
   "outputs": [],
   "source": [
    "import numpy as np\n",
    "import pandas as pd\n",
    "from tensorflow import keras"
   ]
  },
  {
   "cell_type": "code",
   "execution_count": 2,
   "metadata": {},
   "outputs": [],
   "source": [
    "df = pd.read_csv(\"creditcard.csv\")\n",
    "#Features V1, V2, … V28 are the principal components obtained with PCA, the only features which have\n",
    "#not been transformed with PCA are 'Time' and 'Amount'. Feature 'Time' contains the seconds elapsed between\n",
    "#each transaction and the first transaction in the dataset."
   ]
  },
  {
   "cell_type": "code",
   "execution_count": 3,
   "metadata": {},
   "outputs": [
    {
     "data": {
      "text/html": [
       "<div>\n",
       "<style scoped>\n",
       "    .dataframe tbody tr th:only-of-type {\n",
       "        vertical-align: middle;\n",
       "    }\n",
       "\n",
       "    .dataframe tbody tr th {\n",
       "        vertical-align: top;\n",
       "    }\n",
       "\n",
       "    .dataframe thead th {\n",
       "        text-align: right;\n",
       "    }\n",
       "</style>\n",
       "<table border=\"1\" class=\"dataframe\">\n",
       "  <thead>\n",
       "    <tr style=\"text-align: right;\">\n",
       "      <th></th>\n",
       "      <th>Time</th>\n",
       "      <th>V1</th>\n",
       "      <th>V2</th>\n",
       "      <th>V3</th>\n",
       "      <th>V4</th>\n",
       "      <th>V5</th>\n",
       "      <th>V6</th>\n",
       "      <th>V7</th>\n",
       "      <th>V8</th>\n",
       "      <th>V9</th>\n",
       "      <th>...</th>\n",
       "      <th>V21</th>\n",
       "      <th>V22</th>\n",
       "      <th>V23</th>\n",
       "      <th>V24</th>\n",
       "      <th>V25</th>\n",
       "      <th>V26</th>\n",
       "      <th>V27</th>\n",
       "      <th>V28</th>\n",
       "      <th>Amount</th>\n",
       "      <th>isFraud</th>\n",
       "    </tr>\n",
       "  </thead>\n",
       "  <tbody>\n",
       "    <tr>\n",
       "      <th>0</th>\n",
       "      <td>0.0</td>\n",
       "      <td>-1.359807</td>\n",
       "      <td>-0.072781</td>\n",
       "      <td>2.536347</td>\n",
       "      <td>1.378155</td>\n",
       "      <td>-0.338321</td>\n",
       "      <td>0.462388</td>\n",
       "      <td>0.239599</td>\n",
       "      <td>0.098698</td>\n",
       "      <td>0.363787</td>\n",
       "      <td>...</td>\n",
       "      <td>-0.018307</td>\n",
       "      <td>0.277838</td>\n",
       "      <td>-0.110474</td>\n",
       "      <td>0.066928</td>\n",
       "      <td>0.128539</td>\n",
       "      <td>-0.189115</td>\n",
       "      <td>0.133558</td>\n",
       "      <td>-0.021053</td>\n",
       "      <td>149.62</td>\n",
       "      <td>0</td>\n",
       "    </tr>\n",
       "    <tr>\n",
       "      <th>1</th>\n",
       "      <td>0.0</td>\n",
       "      <td>1.191857</td>\n",
       "      <td>0.266151</td>\n",
       "      <td>0.166480</td>\n",
       "      <td>0.448154</td>\n",
       "      <td>0.060018</td>\n",
       "      <td>-0.082361</td>\n",
       "      <td>-0.078803</td>\n",
       "      <td>0.085102</td>\n",
       "      <td>-0.255425</td>\n",
       "      <td>...</td>\n",
       "      <td>-0.225775</td>\n",
       "      <td>-0.638672</td>\n",
       "      <td>0.101288</td>\n",
       "      <td>-0.339846</td>\n",
       "      <td>0.167170</td>\n",
       "      <td>0.125895</td>\n",
       "      <td>-0.008983</td>\n",
       "      <td>0.014724</td>\n",
       "      <td>2.69</td>\n",
       "      <td>0</td>\n",
       "    </tr>\n",
       "    <tr>\n",
       "      <th>2</th>\n",
       "      <td>1.0</td>\n",
       "      <td>-1.358354</td>\n",
       "      <td>-1.340163</td>\n",
       "      <td>1.773209</td>\n",
       "      <td>0.379780</td>\n",
       "      <td>-0.503198</td>\n",
       "      <td>1.800499</td>\n",
       "      <td>0.791461</td>\n",
       "      <td>0.247676</td>\n",
       "      <td>-1.514654</td>\n",
       "      <td>...</td>\n",
       "      <td>0.247998</td>\n",
       "      <td>0.771679</td>\n",
       "      <td>0.909412</td>\n",
       "      <td>-0.689281</td>\n",
       "      <td>-0.327642</td>\n",
       "      <td>-0.139097</td>\n",
       "      <td>-0.055353</td>\n",
       "      <td>-0.059752</td>\n",
       "      <td>378.66</td>\n",
       "      <td>0</td>\n",
       "    </tr>\n",
       "    <tr>\n",
       "      <th>3</th>\n",
       "      <td>1.0</td>\n",
       "      <td>-0.966272</td>\n",
       "      <td>-0.185226</td>\n",
       "      <td>1.792993</td>\n",
       "      <td>-0.863291</td>\n",
       "      <td>-0.010309</td>\n",
       "      <td>1.247203</td>\n",
       "      <td>0.237609</td>\n",
       "      <td>0.377436</td>\n",
       "      <td>-1.387024</td>\n",
       "      <td>...</td>\n",
       "      <td>-0.108300</td>\n",
       "      <td>0.005274</td>\n",
       "      <td>-0.190321</td>\n",
       "      <td>-1.175575</td>\n",
       "      <td>0.647376</td>\n",
       "      <td>-0.221929</td>\n",
       "      <td>0.062723</td>\n",
       "      <td>0.061458</td>\n",
       "      <td>123.50</td>\n",
       "      <td>0</td>\n",
       "    </tr>\n",
       "    <tr>\n",
       "      <th>4</th>\n",
       "      <td>2.0</td>\n",
       "      <td>-1.158233</td>\n",
       "      <td>0.877737</td>\n",
       "      <td>1.548718</td>\n",
       "      <td>0.403034</td>\n",
       "      <td>-0.407193</td>\n",
       "      <td>0.095921</td>\n",
       "      <td>0.592941</td>\n",
       "      <td>-0.270533</td>\n",
       "      <td>0.817739</td>\n",
       "      <td>...</td>\n",
       "      <td>-0.009431</td>\n",
       "      <td>0.798278</td>\n",
       "      <td>-0.137458</td>\n",
       "      <td>0.141267</td>\n",
       "      <td>-0.206010</td>\n",
       "      <td>0.502292</td>\n",
       "      <td>0.219422</td>\n",
       "      <td>0.215153</td>\n",
       "      <td>69.99</td>\n",
       "      <td>0</td>\n",
       "    </tr>\n",
       "  </tbody>\n",
       "</table>\n",
       "<p>5 rows × 31 columns</p>\n",
       "</div>"
      ],
      "text/plain": [
       "   Time        V1        V2        V3        V4        V5        V6        V7  \\\n",
       "0   0.0 -1.359807 -0.072781  2.536347  1.378155 -0.338321  0.462388  0.239599   \n",
       "1   0.0  1.191857  0.266151  0.166480  0.448154  0.060018 -0.082361 -0.078803   \n",
       "2   1.0 -1.358354 -1.340163  1.773209  0.379780 -0.503198  1.800499  0.791461   \n",
       "3   1.0 -0.966272 -0.185226  1.792993 -0.863291 -0.010309  1.247203  0.237609   \n",
       "4   2.0 -1.158233  0.877737  1.548718  0.403034 -0.407193  0.095921  0.592941   \n",
       "\n",
       "         V8        V9  ...       V21       V22       V23       V24       V25  \\\n",
       "0  0.098698  0.363787  ... -0.018307  0.277838 -0.110474  0.066928  0.128539   \n",
       "1  0.085102 -0.255425  ... -0.225775 -0.638672  0.101288 -0.339846  0.167170   \n",
       "2  0.247676 -1.514654  ...  0.247998  0.771679  0.909412 -0.689281 -0.327642   \n",
       "3  0.377436 -1.387024  ... -0.108300  0.005274 -0.190321 -1.175575  0.647376   \n",
       "4 -0.270533  0.817739  ... -0.009431  0.798278 -0.137458  0.141267 -0.206010   \n",
       "\n",
       "        V26       V27       V28  Amount  isFraud  \n",
       "0 -0.189115  0.133558 -0.021053  149.62        0  \n",
       "1  0.125895 -0.008983  0.014724    2.69        0  \n",
       "2 -0.139097 -0.055353 -0.059752  378.66        0  \n",
       "3 -0.221929  0.062723  0.061458  123.50        0  \n",
       "4  0.502292  0.219422  0.215153   69.99        0  \n",
       "\n",
       "[5 rows x 31 columns]"
      ]
     },
     "execution_count": 3,
     "metadata": {},
     "output_type": "execute_result"
    }
   ],
   "source": [
    "df.rename(columns = {'Class':'isFraud'}, inplace = True) \n",
    "df.head()"
   ]
  },
  {
   "cell_type": "code",
   "execution_count": 4,
   "metadata": {},
   "outputs": [
    {
     "data": {
      "text/plain": [
       "0    284315\n",
       "1       492\n",
       "Name: isFraud, dtype: int64"
      ]
     },
     "execution_count": 4,
     "metadata": {},
     "output_type": "execute_result"
    }
   ],
   "source": [
    "df['isFraud'].value_counts()"
   ]
  },
  {
   "cell_type": "code",
   "execution_count": 5,
   "metadata": {
    "scrolled": true
   },
   "outputs": [
    {
     "data": {
      "text/plain": [
       "(array([2.62369e+05, 1.31640e+04, 4.02500e+03, 1.96100e+03, 9.64000e+02,\n",
       "        5.68000e+02, 3.64000e+02, 2.62000e+02, 1.23000e+02, 1.03000e+02,\n",
       "        8.50000e+01, 5.90000e+01, 4.50000e+01, 4.70000e+01, 3.80000e+01,\n",
       "        3.10000e+01, 2.20000e+01, 1.10000e+01, 1.40000e+01, 8.00000e+00,\n",
       "        7.00000e+00, 3.00000e+00, 6.00000e+00, 5.00000e+00, 1.00000e+00,\n",
       "        4.00000e+00, 2.00000e+00, 3.00000e+00, 2.00000e+00, 3.00000e+00,\n",
       "        4.00000e+00, 1.00000e+00, 1.00000e+00, 0.00000e+00, 2.00000e+00,\n",
       "        0.00000e+00, 0.00000e+00, 0.00000e+00, 1.00000e+00, 1.00000e+00,\n",
       "        0.00000e+00, 0.00000e+00, 0.00000e+00, 0.00000e+00, 0.00000e+00,\n",
       "        1.00000e+00, 1.00000e+00, 0.00000e+00, 0.00000e+00, 0.00000e+00,\n",
       "        1.00000e+00, 0.00000e+00, 0.00000e+00, 0.00000e+00, 0.00000e+00,\n",
       "        0.00000e+00, 0.00000e+00, 0.00000e+00, 0.00000e+00, 0.00000e+00,\n",
       "        0.00000e+00, 0.00000e+00, 0.00000e+00, 0.00000e+00, 0.00000e+00,\n",
       "        0.00000e+00, 0.00000e+00, 0.00000e+00, 0.00000e+00, 0.00000e+00,\n",
       "        0.00000e+00, 0.00000e+00, 0.00000e+00, 1.00000e+00, 0.00000e+00,\n",
       "        0.00000e+00, 1.00000e+00, 0.00000e+00, 0.00000e+00, 0.00000e+00,\n",
       "        0.00000e+00, 0.00000e+00, 0.00000e+00, 0.00000e+00, 0.00000e+00,\n",
       "        0.00000e+00, 0.00000e+00, 0.00000e+00, 0.00000e+00, 0.00000e+00,\n",
       "        0.00000e+00, 0.00000e+00, 0.00000e+00, 0.00000e+00, 0.00000e+00,\n",
       "        0.00000e+00, 0.00000e+00, 0.00000e+00, 0.00000e+00, 1.00000e+00]),\n",
       " array([    0.    ,   256.9116,   513.8232,   770.7348,  1027.6464,\n",
       "         1284.558 ,  1541.4696,  1798.3812,  2055.2928,  2312.2044,\n",
       "         2569.116 ,  2826.0276,  3082.9392,  3339.8508,  3596.7624,\n",
       "         3853.674 ,  4110.5856,  4367.4972,  4624.4088,  4881.3204,\n",
       "         5138.232 ,  5395.1436,  5652.0552,  5908.9668,  6165.8784,\n",
       "         6422.79  ,  6679.7016,  6936.6132,  7193.5248,  7450.4364,\n",
       "         7707.348 ,  7964.2596,  8221.1712,  8478.0828,  8734.9944,\n",
       "         8991.906 ,  9248.8176,  9505.7292,  9762.6408, 10019.5524,\n",
       "        10276.464 , 10533.3756, 10790.2872, 11047.1988, 11304.1104,\n",
       "        11561.022 , 11817.9336, 12074.8452, 12331.7568, 12588.6684,\n",
       "        12845.58  , 13102.4916, 13359.4032, 13616.3148, 13873.2264,\n",
       "        14130.138 , 14387.0496, 14643.9612, 14900.8728, 15157.7844,\n",
       "        15414.696 , 15671.6076, 15928.5192, 16185.4308, 16442.3424,\n",
       "        16699.254 , 16956.1656, 17213.0772, 17469.9888, 17726.9004,\n",
       "        17983.812 , 18240.7236, 18497.6352, 18754.5468, 19011.4584,\n",
       "        19268.37  , 19525.2816, 19782.1932, 20039.1048, 20296.0164,\n",
       "        20552.928 , 20809.8396, 21066.7512, 21323.6628, 21580.5744,\n",
       "        21837.486 , 22094.3976, 22351.3092, 22608.2208, 22865.1324,\n",
       "        23122.044 , 23378.9556, 23635.8672, 23892.7788, 24149.6904,\n",
       "        24406.602 , 24663.5136, 24920.4252, 25177.3368, 25434.2484,\n",
       "        25691.16  ]),\n",
       " <BarContainer object of 100 artists>)"
      ]
     },
     "execution_count": 5,
     "metadata": {},
     "output_type": "execute_result"
    },
    {
     "data": {
      "image/png": "[encoded data removed]",
      "text/plain": [
       "<Figure size 432x288 with 1 Axes>"
      ]
     },
     "metadata": {
      "needs_background": "light"
     },
     "output_type": "display_data"
    }
   ],
   "source": [
    "import matplotlib.pyplot as plt\n",
    "plt.hist(df[df.isFraud == False]['Amount'], color='b', label='Real', bins=100)"
   ]
  },
  {
   "cell_type": "code",
   "execution_count": 6,
   "metadata": {
    "scrolled": true
   },
   "outputs": [
    {
     "data": {
      "text/plain": [
       "(array([230.,  27.,  14.,   5.,  12.,   8.,   9.,   4.,   5.,   2.,   3.,\n",
       "          6.,   3.,   5.,  38.,   7.,   3.,   5.,   3.,   1.,   3.,   1.,\n",
       "          1.,   0.,   4.,   2.,   5.,   1.,   1.,   2.,   0.,   1.,   1.,\n",
       "          4.,   2.,   3.,   2.,   0.,   3.,   0.,   1.,   2.,   0.,   2.,\n",
       "          4.,   5.,   0.,   1.,   2.,   1.,   3.,   2.,   0.,   0.,   0.,\n",
       "          1.,   0.,   0.,   0.,   0.,   1.,   0.,   1.,   1.,   2.,   0.,\n",
       "          0.,   1.,   0.,   1.,   0.,   0.,   2.,   1.,   1.,   0.,   0.,\n",
       "          1.,   0.,   0.,   1.,   0.,   0.,   1.,   1.,   0.,   0.,   0.,\n",
       "          0.,   2.,   0.,   1.,   0.,   0.,   1.,   0.,   0.,   0.,   0.,\n",
       "          0.,   0.,   3.,   3.,   1.,   0.,   0.,   0.,   0.,   1.,   1.,\n",
       "          0.,   0.,   0.,   1.,   0.,   0.,   1.,   1.,   0.,   0.,   0.,\n",
       "          0.,   0.,   0.,   0.,   0.,   0.,   0.,   0.,   0.,   1.,   0.,\n",
       "          0.,   0.,   0.,   0.,   0.,   0.,   0.,   0.,   1.,   0.,   0.,\n",
       "          0.,   0.,   0.,   0.,   0.,   0.,   0.,   0.,   0.,   0.,   0.,\n",
       "          1.,   0.,   0.,   0.,   0.,   0.,   0.,   0.,   0.,   0.,   0.,\n",
       "          0.,   0.,   0.,   0.,   0.,   0.,   0.,   1.,   0.,   0.,   0.,\n",
       "          0.,   0.,   0.,   0.,   0.,   0.,   0.,   0.,   0.,   0.,   0.,\n",
       "          0.,   1.,   0.,   0.,   1.,   0.,   0.,   0.,   0.,   1.,   1.,\n",
       "          0.,   0.,   0.,   0.,   0.,   0.,   0.,   0.,   0.,   0.,   0.,\n",
       "          0.,   0.,   0.,   1.,   0.,   0.,   0.,   0.,   0.,   0.,   0.,\n",
       "          0.,   0.,   0.,   0.,   0.,   0.,   0.,   0.,   0.,   0.,   0.,\n",
       "          0.,   0.,   0.,   0.,   0.,   0.,   0.,   0.,   0.,   0.,   0.,\n",
       "          0.,   0.,   0.,   0.,   0.,   0.,   0.,   0.,   0.,   0.,   0.,\n",
       "          0.,   0.,   1.,   0.,   0.,   0.,   0.,   0.,   0.,   0.,   0.,\n",
       "          0.,   0.,   0.,   0.,   0.,   0.,   0.,   0.,   0.,   0.,   0.,\n",
       "          0.,   0.,   0.,   0.,   0.,   0.,   0.,   0.,   0.,   0.,   0.,\n",
       "          0.,   0.,   0.,   0.,   0.,   0.,   0.,   0.,   0.,   0.,   0.,\n",
       "          0.,   0.,   1.]),\n",
       " array([   0.        ,    7.08623333,   14.17246667,   21.2587    ,\n",
       "          28.34493333,   35.43116667,   42.5174    ,   49.60363333,\n",
       "          56.68986667,   63.7761    ,   70.86233333,   77.94856667,\n",
       "          85.0348    ,   92.12103333,   99.20726667,  106.2935    ,\n",
       "         113.37973333,  120.46596667,  127.5522    ,  134.63843333,\n",
       "         141.72466667,  148.8109    ,  155.89713333,  162.98336667,\n",
       "         170.0696    ,  177.15583333,  184.24206667,  191.3283    ,\n",
       "         198.41453333,  205.50076667,  212.587     ,  219.67323333,\n",
       "         226.75946667,  233.8457    ,  240.93193333,  248.01816667,\n",
       "         255.1044    ,  262.19063333,  269.27686667,  276.3631    ,\n",
       "         283.44933333,  290.53556667,  297.6218    ,  304.70803333,\n",
       "         311.79426667,  318.8805    ,  325.96673333,  333.05296667,\n",
       "         340.1392    ,  347.22543333,  354.31166667,  361.3979    ,\n",
       "         368.48413333,  375.57036667,  382.6566    ,  389.74283333,\n",
       "         396.82906667,  403.9153    ,  411.00153333,  418.08776667,\n",
       "         425.174     ,  432.26023333,  439.34646667,  446.4327    ,\n",
       "         453.51893333,  460.60516667,  467.6914    ,  474.77763333,\n",
       "         481.86386667,  488.9501    ,  496.03633333,  503.12256667,\n",
       "         510.2088    ,  517.29503333,  524.38126667,  531.4675    ,\n",
       "         538.55373333,  545.63996667,  552.7262    ,  559.81243333,\n",
       "         566.89866667,  573.9849    ,  581.07113333,  588.15736667,\n",
       "         595.2436    ,  602.32983333,  609.41606667,  616.5023    ,\n",
       "         623.58853333,  630.67476667,  637.761     ,  644.84723333,\n",
       "         651.93346667,  659.0197    ,  666.10593333,  673.19216667,\n",
       "         680.2784    ,  687.36463333,  694.45086667,  701.5371    ,\n",
       "         708.62333333,  715.70956667,  722.7958    ,  729.88203333,\n",
       "         736.96826667,  744.0545    ,  751.14073333,  758.22696667,\n",
       "         765.3132    ,  772.39943333,  779.48566667,  786.5719    ,\n",
       "         793.65813333,  800.74436667,  807.8306    ,  814.91683333,\n",
       "         822.00306667,  829.0893    ,  836.17553333,  843.26176667,\n",
       "         850.348     ,  857.43423333,  864.52046667,  871.6067    ,\n",
       "         878.69293333,  885.77916667,  892.8654    ,  899.95163333,\n",
       "         907.03786667,  914.1241    ,  921.21033333,  928.29656667,\n",
       "         935.3828    ,  942.46903333,  949.55526667,  956.6415    ,\n",
       "         963.72773333,  970.81396667,  977.9002    ,  984.98643333,\n",
       "         992.07266667,  999.1589    , 1006.24513333, 1013.33136667,\n",
       "        1020.4176    , 1027.50383333, 1034.59006667, 1041.6763    ,\n",
       "        1048.76253333, 1055.84876667, 1062.935     , 1070.02123333,\n",
       "        1077.10746667, 1084.1937    , 1091.27993333, 1098.36616667,\n",
       "        1105.4524    , 1112.53863333, 1119.62486667, 1126.7111    ,\n",
       "        1133.79733333, 1140.88356667, 1147.9698    , 1155.05603333,\n",
       "        1162.14226667, 1169.2285    , 1176.31473333, 1183.40096667,\n",
       "        1190.4872    , 1197.57343333, 1204.65966667, 1211.7459    ,\n",
       "        1218.83213333, 1225.91836667, 1233.0046    , 1240.09083333,\n",
       "        1247.17706667, 1254.2633    , 1261.34953333, 1268.43576667,\n",
       "        1275.522     , 1282.60823333, 1289.69446667, 1296.7807    ,\n",
       "        1303.86693333, 1310.95316667, 1318.0394    , 1325.12563333,\n",
       "        1332.21186667, 1339.2981    , 1346.38433333, 1353.47056667,\n",
       "        1360.5568    , 1367.64303333, 1374.72926667, 1381.8155    ,\n",
       "        1388.90173333, 1395.98796667, 1403.0742    , 1410.16043333,\n",
       "        1417.24666667, 1424.3329    , 1431.41913333, 1438.50536667,\n",
       "        1445.5916    , 1452.67783333, 1459.76406667, 1466.8503    ,\n",
       "        1473.93653333, 1481.02276667, 1488.109     , 1495.19523333,\n",
       "        1502.28146667, 1509.3677    , 1516.45393333, 1523.54016667,\n",
       "        1530.6264    , 1537.71263333, 1544.79886667, 1551.8851    ,\n",
       "        1558.97133333, 1566.05756667, 1573.1438    , 1580.23003333,\n",
       "        1587.31626667, 1594.4025    , 1601.48873333, 1608.57496667,\n",
       "        1615.6612    , 1622.74743333, 1629.83366667, 1636.9199    ,\n",
       "        1644.00613333, 1651.09236667, 1658.1786    , 1665.26483333,\n",
       "        1672.35106667, 1679.4373    , 1686.52353333, 1693.60976667,\n",
       "        1700.696     , 1707.78223333, 1714.86846667, 1721.9547    ,\n",
       "        1729.04093333, 1736.12716667, 1743.2134    , 1750.29963333,\n",
       "        1757.38586667, 1764.4721    , 1771.55833333, 1778.64456667,\n",
       "        1785.7308    , 1792.81703333, 1799.90326667, 1806.9895    ,\n",
       "        1814.07573333, 1821.16196667, 1828.2482    , 1835.33443333,\n",
       "        1842.42066667, 1849.5069    , 1856.59313333, 1863.67936667,\n",
       "        1870.7656    , 1877.85183333, 1884.93806667, 1892.0243    ,\n",
       "        1899.11053333, 1906.19676667, 1913.283     , 1920.36923333,\n",
       "        1927.45546667, 1934.5417    , 1941.62793333, 1948.71416667,\n",
       "        1955.8004    , 1962.88663333, 1969.97286667, 1977.0591    ,\n",
       "        1984.14533333, 1991.23156667, 1998.3178    , 2005.40403333,\n",
       "        2012.49026667, 2019.5765    , 2026.66273333, 2033.74896667,\n",
       "        2040.8352    , 2047.92143333, 2055.00766667, 2062.0939    ,\n",
       "        2069.18013333, 2076.26636667, 2083.3526    , 2090.43883333,\n",
       "        2097.52506667, 2104.6113    , 2111.69753333, 2118.78376667,\n",
       "        2125.87      ]),\n",
       " <BarContainer object of 300 artists>)"
      ]
     },
     "execution_count": 6,
     "metadata": {},
     "output_type": "execute_result"
    },
    {
     "data": {
      "image/png": "[encoded data removed]",
      "text/plain": [
       "<Figure size 432x288 with 1 Axes>"
      ]
     },
     "metadata": {
      "needs_background": "light"
     },
     "output_type": "display_data"
    }
   ],
   "source": [
    "plt.hist(df[df.isFraud == True]['Amount'], color='r', label='Fraud', bins=300)"
   ]
  },
  {
   "cell_type": "markdown",
   "metadata": {},
   "source": [
    "##### clean data and generate train & test sets"
   ]
  },
  {
   "cell_type": "code",
   "execution_count": 7,
   "metadata": {},
   "outputs": [],
   "source": [
    "def norm(data):\n",
    "    return (data - np.mean(data, axis=0)) / np.std(data, axis=0)"
   ]
  },
  {
   "cell_type": "code",
   "execution_count": 8,
   "metadata": {},
   "outputs": [],
   "source": [
    "from sklearn.model_selection  import train_test_split\n",
    "X, y = df.iloc[:,:-1], df.iloc[:, -1]\n",
    "y_numeric = y\n",
    "y = keras.utils.to_categorical(y, num_classes=2)\n",
    "\n",
    "X_orig = X\n",
    "X = norm(X) #normalize the data to N(0,1)\n",
    "###UNFINISHED MAYBE WE SHOULDNT NORMALIZXE THE PCA FEATURE COLS\n",
    "\n",
    "X_train, X_test, y_train, y_test = train_test_split(X, y, test_size=0.2, random_state=1)\n",
    "\n",
    "#corresponding for resampling methods (we need to use different datatype)\n",
    "y_num_train = y_numeric[X_train.index]\n",
    "y_num_test = y_numeric[X_test.index]"
   ]
  },
  {
   "cell_type": "markdown",
   "metadata": {},
   "source": [
    "##### Sampling Methods : SMOTE (oversampling) & nearmiss (undersampling)"
   ]
  },
  {
   "cell_type": "code",
   "execution_count": 9,
   "metadata": {},
   "outputs": [],
   "source": [
    "from imblearn.over_sampling import SMOTE\n",
    "\n",
    "sm = SMOTE(random_state=2)\n",
    "X_train_res, y_train_res = sm.fit_sample(X_train, y_num_train)"
   ]
  },
  {
   "cell_type": "markdown",
   "metadata": {},
   "source": [
    "\n",
    "\n",
    "SMOTE Algorithm has oversampled the minority instances and made it equal to majority class. Both categories have equal amount of records. More specifically, the minority class has been increased to the total number of majority class.\n",
    "\n"
   ]
  },
  {
   "cell_type": "code",
   "execution_count": 10,
   "metadata": {},
   "outputs": [],
   "source": [
    "from imblearn.under_sampling import NearMiss \n",
    "nr = NearMiss() \n",
    "\n",
    "X_train_miss, y_train_miss = nr.fit_sample(X_train, y_num_train) "
   ]
  },
  {
   "cell_type": "markdown",
   "metadata": {},
   "source": [
    "##### Creating our Loss functions: Focal Loss & Asymmetric Loss"
   ]
  },
  {
   "cell_type": "code",
   "execution_count": 11,
   "metadata": {},
   "outputs": [],
   "source": [
    "import tensorflow as tf"
   ]
  },
  {
   "cell_type": "code",
   "execution_count": 12,
   "metadata": {},
   "outputs": [],
   "source": [
    "\n",
    "# focal loss method, source: https://github.com/Tony607/Focal_Loss_Keras\n",
    "\n",
    "class FocalLoss(keras.losses.Loss):\n",
    "    def __init__(self, gamma=2., alpha=4.,\n",
    "                 reduction=keras.losses.Reduction.AUTO, name='focal_loss'):\n",
    "        \"\"\"Focal loss for multi-classification\n",
    "        FL(p_t)=-alpha(1-p_t)^{gamma}ln(p_t)\n",
    "        Notice: y_pred is probability after softmax\n",
    "        gradient is d(Fl)/d(p_t) not d(Fl)/d(x) as described in paper\n",
    "        d(Fl)/d(p_t) * [p_t(1-p_t)] = d(Fl)/d(x)\n",
    "        Focal Loss for Dense Object Detection\n",
    "        https://arxiv.org/abs/1708.02002\n",
    "\n",
    "        Keyword Arguments:\n",
    "            gamma {float} -- (default: {2.0})\n",
    "            alpha {float} -- (default: {4.0})\n",
    "        \"\"\"\n",
    "        super(FocalLoss, self).__init__(reduction=reduction,\n",
    "                                        name=name)\n",
    "        self.gamma = float(gamma)\n",
    "        self.alpha = float(alpha)\n",
    "\n",
    "    def call(self, y_true, y_pred):\n",
    "        \"\"\"\n",
    "        Arguments:\n",
    "            y_true {tensor} -- ground truth labels, shape of [batch_size, num_cls]\n",
    "            y_pred {tensor} -- model's output, shape of [batch_size, num_cls]\n",
    "\n",
    "        Returns:\n",
    "            [tensor] -- loss.\n",
    "        \"\"\"\n",
    "        epsilon = 1.e-9\n",
    "        y_true = tf.convert_to_tensor(y_true, tf.float32)\n",
    "        y_pred = tf.convert_to_tensor(y_pred, tf.float32)\n",
    "\n",
    "        model_out = tf.add(y_pred, epsilon)\n",
    "        ce = tf.multiply(y_true, -tf.math.log(model_out))\n",
    "        weight = tf.multiply(y_true, tf.pow(\n",
    "            tf.subtract(1., model_out), self.gamma))\n",
    "        fl = tf.multiply(self.alpha, tf.multiply(weight, ce))\n",
    "        reduced_fl = tf.reduce_max(fl, axis=1)\n",
    "        return tf.reduce_mean(reduced_fl)\n"
   ]
  },
  {
   "cell_type": "code",
   "execution_count": 13,
   "metadata": {},
   "outputs": [],
   "source": [
    "#asymmetric loss\n",
    "#https://github.com/keras-team/keras/issues/2115\n",
    "import tensorflow.keras.backend as K\n",
    "from tensorflow.keras.losses import CategoricalCrossentropy\n",
    "\n",
    "\n",
    "class WeightedCategoricalCrossentropy(CategoricalCrossentropy):\n",
    "    \n",
    "    def __init__(self, cost_mat, name='weighted_categorical_crossentropy', **kwargs):\n",
    "        assert cost_mat.ndim == 2\n",
    "        assert cost_mat.shape[0] == cost_mat.shape[1]\n",
    "        \n",
    "        super().__init__(name=name, **kwargs)\n",
    "        self.cost_mat = K.cast_to_floatx(cost_mat)\n",
    "    \n",
    "    def __call__(self, y_true, y_pred, sample_weight=None):\n",
    "        assert sample_weight is None, \"should only be derived from the cost matrix\"\n",
    "      \n",
    "        return super().__call__(\n",
    "            y_true=y_true,\n",
    "            y_pred=y_pred,\n",
    "            sample_weight=get_sample_weights(y_true, y_pred, self.cost_mat),\n",
    "        )\n",
    "    \n",
    "#class CashCrossentropy(CategoricalCrossentropy):\n",
    "#    \n",
    "#    def __init__(self, cost_mat, name='weighted_categorical_crossentropy', **kwargs):\n",
    "#        assert cost_mat.ndim == 2\n",
    "#        assert cost_mat.shape[0] == cost_mat.shape[1]\n",
    "#        \n",
    "#        super().__init__(name=name, **kwargs)\n",
    "#        self.cost_mat = K.cast_to_floatx(cost_mat)\n",
    "#    \n",
    "#    def __call__(self, y_true, y_pred, sample_weight=None):\n",
    "#        # assert sample_weight is None, \"should only be derived from the cost matrix\"\n",
    "#        \n",
    "#        return super().__call__(\n",
    "#            y_true=y_true,\n",
    "#            y_pred=y_pred,\n",
    "#            sample_weight=get_sample_weights(y_true, y_pred, self.cost_mat) * K.cast_to_floatx(sample_weight),\n",
    "#        )\n",
    "\n",
    "\n",
    "def get_sample_weights(y_true, y_pred, cost_m):\n",
    "    num_classes = len(cost_m)\n",
    "\n",
    "    y_pred.shape.assert_has_rank(2)\n",
    "    y_pred.shape[1:].assert_is_compatible_with(num_classes)\n",
    "    y_pred.shape.assert_is_compatible_with(y_true.shape)\n",
    "\n",
    "    y_pred = K.one_hot(K.argmax(y_pred), num_classes)\n",
    "\n",
    "    y_true_nk1 = K.expand_dims(y_true, 2)\n",
    "    y_pred_n1k = K.expand_dims(y_pred, 1)\n",
    "    cost_m_1kk = K.expand_dims(cost_m, 0)\n",
    "\n",
    "    sample_weights_nkk = cost_m_1kk * y_true_nk1 * y_pred_n1k\n",
    "    sample_weights_n = K.sum(sample_weights_nkk, axis=[1, 2])\n",
    "\n",
    "    return sample_weights_n"
   ]
  },
  {
   "cell_type": "markdown",
   "metadata": {},
   "source": [
    "##### build our neural network model, create different instances for each method to benchmark"
   ]
  },
  {
   "cell_type": "code",
   "execution_count": 14,
   "metadata": {},
   "outputs": [],
   "source": [
    "from tensorflow.keras.models import Sequential\n",
    "\n",
    "mod_focal = Sequential()\n",
    "\n",
    "from tensorflow.keras.layers import Dense\n",
    "\n",
    "input_dim = X_train.shape[1]\n",
    "nb_classes = y_train.shape[1]\n",
    "\n",
    "#general CNN model.\n",
    "###DECIDE WHAT KIND CNN TO BUILD###UNFINISHED\n",
    "mod_focal.add(Dense(10, input_dim=input_dim, activation='relu', name='input'))\n",
    "mod_focal.add(Dense(20, activation='relu', name='fc1'))\n",
    "mod_focal.add(Dense(10, activation='relu', name='fc2'))\n",
    "mod_focal.add(Dense(nb_classes, activation='softmax', name='output'))"
   ]
  },
  {
   "cell_type": "code",
   "execution_count": 15,
   "metadata": {},
   "outputs": [],
   "source": [
    "#loss models\n",
    "mod_ce_acc = tf.keras.models.clone_model(mod_focal)\n",
    "mod_ce_rec = tf.keras.models.clone_model(mod_focal)  \n",
    "mod_ce_bal_weight = tf.keras.models.clone_model(mod_focal)\n",
    "mod_ce_bal= tf.keras.models.clone_model(mod_focal)\n",
    "mod_dectree = tf.keras.models.clone_model(mod_focal)\n",
    "mod_unequal = tf.keras.models.clone_model(mod_focal)\n",
    "mod_ce_weight = tf.keras.models.clone_model(mod_focal)\n",
    "\n",
    "#resampling models\n",
    "mod_SMOTE = tf.keras.models.clone_model(mod_focal)\n",
    "mod_nearmiss = tf.keras.models.clone_model(mod_focal)"
   ]
  },
  {
   "cell_type": "code",
   "execution_count": 16,
   "metadata": {},
   "outputs": [],
   "source": [
    "#define common terms for compiling models\n",
    "ourmetrics=['accuracy','AUC']\n",
    "opt= \"sgd\""
   ]
  },
  {
   "cell_type": "code",
   "execution_count": 41,
   "metadata": {},
   "outputs": [],
   "source": [
    "#compile the models\n",
    "\n",
    "mod_focal.compile(loss=FocalLoss(alpha=1),\n",
    "              optimizer=opt,\n",
    "              metrics=ourmetrics)\n",
    "\n",
    "#model.compile(loss=WeightedCategoricalCrossentropy(cost_matrix), ...) #weighted model.\n",
    "\n",
    "mod_ce_acc.compile(loss='binary_crossentropy',\n",
    "              optimizer=opt,\n",
    "              metrics=ourmetrics)\n",
    "\n",
    "mod_ce_weight.compile(loss='binary_crossentropy',\n",
    "              optimizer=opt,\n",
    "              metrics=ourmetrics)\n",
    "\n",
    "mod_SMOTE.compile(loss='binary_crossentropy',\n",
    "              optimizer=opt,\n",
    "              metrics=ourmetrics)\n",
    "\n",
    "mod_nearmiss.compile(loss='binary_crossentropy',\n",
    "              optimizer=opt,\n",
    "              metrics=ourmetrics)\n",
    "\n",
    "\n",
    "#define matrix for Aysmmetric\n",
    "w_array = np.ones((2,2))\n",
    "w_array[1,0] = 4\n",
    "\n",
    "\n",
    "mod_ce_bal.compile(loss=WeightedCategoricalCrossentropy(w_array),\n",
    "              optimizer=opt,\n",
    "              metrics=ourmetrics)\n",
    "\n",
    "#mod_ce_bal_weight.compile(loss=CashCrossentropy(w_array),\n",
    "#              optimizer=opt,\n",
    "#              metrics=ourmetrics)\n"
   ]
  },
  {
   "cell_type": "code",
   "execution_count": 21,
   "metadata": {},
   "outputs": [],
   "source": []
  },
  {
   "cell_type": "code",
   "execution_count": 22,
   "metadata": {},
   "outputs": [],
   "source": [
    "#set up callbacks\n",
    "\n",
    "import time\n",
    "\n",
    "class TimeHistory(keras.callbacks.Callback):\n",
    "    def on_train_begin(self, logs={}):\n",
    "        self.times = []\n",
    "\n",
    "    def on_epoch_begin(self, epoch, logs={}):\n",
    "        self.epoch_time_start = time.time()\n",
    "\n",
    "    def on_epoch_end(self, epoch, logs={}):\n",
    "        self.times.append(time.time() - self.epoch_time_start)"
   ]
  },
  {
   "cell_type": "markdown",
   "metadata": {},
   "source": [
    "##### train our models"
   ]
  },
  {
   "cell_type": "code",
   "execution_count": 23,
   "metadata": {},
   "outputs": [],
   "source": [
    "#define our universal fitting params\n",
    "nb_batch = 1000\n",
    "nb_epoch = 8"
   ]
  },
  {
   "cell_type": "code",
   "execution_count": 24,
   "metadata": {
    "scrolled": true
   },
   "outputs": [
    {
     "name": "stdout",
     "output_type": "stream",
     "text": [
      "Epoch 1/8\n",
      "228/228 [==============================] - 1s 3ms/step - loss: 0.0403 - accuracy: 0.9942\n",
      "Epoch 2/8\n",
      "228/228 [==============================] - 1s 4ms/step - loss: 0.0133 - accuracy: 0.9982: 0s\n",
      "Epoch 3/8\n",
      "228/228 [==============================] - 1s 3ms/step - loss: 0.0090 - accuracy: 0.9982\n",
      "Epoch 4/8\n",
      "228/228 [==============================] - 1s 3ms/step - loss: 0.0072 - accuracy: 0.9982\n",
      "Epoch 5/8\n",
      "228/228 [==============================] - 1s 3ms/step - loss: 0.0060 - accuracy: 0.9982\n",
      "Epoch 6/8\n",
      "228/228 [==============================] - 1s 4ms/step - loss: 0.0052 - accuracy: 0.9982\n",
      "Epoch 7/8\n",
      "228/228 [==============================] - 1s 3ms/step - loss: 0.0046 - accuracy: 0.9983\n",
      "Epoch 8/8\n",
      "228/228 [==============================] - 1s 3ms/step - loss: 0.0042 - accuracy: 0.9984\n"
     ]
    }
   ],
   "source": [
    "time_focal = TimeHistory()\n",
    "hist_focal = mod_focal.fit(X_train, y_train, epochs=nb_epoch, batch_size=nb_batch, callbacks=[time_focal]) #fit model"
   ]
  },
  {
   "cell_type": "code",
   "execution_count": 25,
   "metadata": {},
   "outputs": [
    {
     "name": "stdout",
     "output_type": "stream",
     "text": [
      "Epoch 1/8\n",
      "228/228 [==============================] - 1s 6ms/step - loss: 0.1864 - accuracy: 0.9689 - auc: 0.9938\n",
      "Epoch 2/8\n",
      "228/228 [==============================] - 1s 6ms/step - loss: 0.0372 - accuracy: 0.9982 - auc: 0.9978\n",
      "Epoch 3/8\n",
      "228/228 [==============================] - 1s 5ms/step - loss: 0.0240 - accuracy: 0.9982 - auc: 0.9982\n",
      "Epoch 4/8\n",
      "228/228 [==============================] - 1s 7ms/step - loss: 0.0191 - accuracy: 0.9982 - auc: 0.9985\n",
      "Epoch 5/8\n",
      "228/228 [==============================] - ETA: 0s - loss: 0.0166 - accuracy: 0.9982 - auc: 0.99 - 1s 6ms/step - loss: 0.0163 - accuracy: 0.9982 - auc: 0.9988\n",
      "Epoch 6/8\n",
      "228/228 [==============================] - 1s 5ms/step - loss: 0.0145 - accuracy: 0.9982 - auc: 0.9990\n",
      "Epoch 7/8\n",
      "228/228 [==============================] - 1s 5ms/step - loss: 0.0133 - accuracy: 0.9982 - auc: 0.9992\n",
      "Epoch 8/8\n",
      "228/228 [==============================] - 1s 5ms/step - loss: 0.0123 - accuracy: 0.9982 - auc: 0.9994\n"
     ]
    },
    {
     "data": {
      "text/plain": [
       "<tensorflow.python.keras.callbacks.History at 0x142ca3310>"
      ]
     },
     "execution_count": 25,
     "metadata": {},
     "output_type": "execute_result"
    }
   ],
   "source": [
    "mod_ce_acc.fit(X_train, y_train, epochs=nb_epoch, batch_size=nb_batch, callbacks=[time_focal])"
   ]
  },
  {
   "cell_type": "code",
   "execution_count": 42,
   "metadata": {},
   "outputs": [
    {
     "name": "stdout",
     "output_type": "stream",
     "text": [
      "Epoch 1/8\n",
      "228/228 [==============================] - 1s 6ms/step - loss: 0.3823 - accuracy: 0.8977 - auc: 0.9563\n",
      "Epoch 2/8\n",
      "228/228 [==============================] - 1s 6ms/step - loss: 0.0897 - accuracy: 0.9982 - auc: 0.9967\n",
      "Epoch 3/8\n",
      "228/228 [==============================] - 2s 8ms/step - loss: 0.0453 - accuracy: 0.9982 - auc: 0.9968\n",
      "Epoch 4/8\n",
      "228/228 [==============================] - 1s 6ms/step - loss: 0.0324 - accuracy: 0.9982 - auc: 0.9970\n",
      "Epoch 5/8\n",
      "228/228 [==============================] - 2s 7ms/step - loss: 0.0262 - accuracy: 0.9982 - auc: 0.9973\n",
      "Epoch 6/8\n",
      "228/228 [==============================] - 1s 5ms/step - loss: 0.0223 - accuracy: 0.9982 - auc: 0.9976\n",
      "Epoch 7/8\n",
      "228/228 [==============================] - 1s 6ms/step - loss: 0.0196 - accuracy: 0.9982 - auc: 0.9980\n",
      "Epoch 8/8\n",
      "228/228 [==============================] - 1s 6ms/step - loss: 0.0178 - accuracy: 0.9982 - auc: 0.9983\n"
     ]
    },
    {
     "data": {
      "text/plain": [
       "<tensorflow.python.keras.callbacks.History at 0x15305e460>"
      ]
     },
     "execution_count": 42,
     "metadata": {},
     "output_type": "execute_result"
    }
   ],
   "source": [
    "mod_nearmiss.fit(X_train, y_train, epochs=nb_epoch, batch_size=nb_batch, callbacks=[time_focal])"
   ]
  },
  {
   "cell_type": "code",
   "execution_count": 43,
   "metadata": {},
   "outputs": [
    {
     "name": "stdout",
     "output_type": "stream",
     "text": [
      "Epoch 1/8\n",
      "228/228 [==============================] - 1s 6ms/step - loss: 0.1346 - accuracy: 0.9954 - auc: 0.9971\n",
      "Epoch 2/8\n",
      "228/228 [==============================] - 1s 5ms/step - loss: 0.0368 - accuracy: 0.9982 - auc: 0.9972\n",
      "Epoch 3/8\n",
      "228/228 [==============================] - 1s 5ms/step - loss: 0.0277 - accuracy: 0.9982 - auc: 0.9974\n",
      "Epoch 4/8\n",
      "228/228 [==============================] - 1s 6ms/step - loss: 0.0238 - accuracy: 0.9982 - auc: 0.9977\n",
      "Epoch 5/8\n",
      "228/228 [==============================] - 1s 5ms/step - loss: 0.0214 - accuracy: 0.9982 - auc: 0.9979\n",
      "Epoch 6/8\n",
      "228/228 [==============================] - 1s 5ms/step - loss: 0.0196 - accuracy: 0.9982 - auc: 0.9980\n",
      "Epoch 7/8\n",
      "228/228 [==============================] - 1s 6ms/step - loss: 0.0182 - accuracy: 0.9982 - auc: 0.9981\n",
      "Epoch 8/8\n",
      "228/228 [==============================] - 1s 7ms/step - loss: 0.0170 - accuracy: 0.9982 - auc: 0.9983\n"
     ]
    },
    {
     "data": {
      "text/plain": [
       "<tensorflow.python.keras.callbacks.History at 0x152f010a0>"
      ]
     },
     "execution_count": 43,
     "metadata": {},
     "output_type": "execute_result"
    }
   ],
   "source": [
    "mod_SMOTE.fit(X_train, y_train, epochs=nb_epoch, batch_size=nb_batch, callbacks=[time_focal])"
   ]
  },
  {
   "cell_type": "code",
   "execution_count": 27,
   "metadata": {},
   "outputs": [
    {
     "name": "stdout",
     "output_type": "stream",
     "text": [
      "Epoch 1/8\n",
      "228/228 [==============================] - 1s 6ms/step - loss: 0.1987 - accuracy: 0.9894 - auc: 0.9973\n",
      "Epoch 2/8\n",
      "228/228 [==============================] - 1s 7ms/step - loss: 0.0661 - accuracy: 0.9982 - auc: 0.9985\n",
      "Epoch 3/8\n",
      "228/228 [==============================] - 1s 6ms/step - loss: 0.0454 - accuracy: 0.9982 - auc: 0.9993\n",
      "Epoch 4/8\n",
      "228/228 [==============================] - 1s 6ms/step - loss: 0.0355 - accuracy: 0.9982 - auc: 0.9995\n",
      "Epoch 5/8\n",
      "228/228 [==============================] - 1s 6ms/step - loss: 0.0291 - accuracy: 0.9985 - auc: 0.9995\n",
      "Epoch 6/8\n",
      "228/228 [==============================] - 1s 6ms/step - loss: 0.0251 - accuracy: 0.9986 - auc: 0.9996\n",
      "Epoch 7/8\n",
      "228/228 [==============================] - 1s 7ms/step - loss: 0.0224 - accuracy: 0.9987 - auc: 0.9996\n",
      "Epoch 8/8\n",
      "228/228 [==============================] - 1s 7ms/step - loss: 0.0204 - accuracy: 0.9988 - auc: 0.9996\n"
     ]
    },
    {
     "data": {
      "text/plain": [
       "<tensorflow.python.keras.callbacks.History at 0x141d95400>"
      ]
     },
     "execution_count": 27,
     "metadata": {},
     "output_type": "execute_result"
    }
   ],
   "source": [
    "mod_ce_bal.fit(X_train, y_train, epochs=nb_epoch, batch_size=nb_batch, callbacks=[time_focal])\n"
   ]
  },
  {
   "cell_type": "code",
   "execution_count": 28,
   "metadata": {},
   "outputs": [],
   "source": [
    "#mod_ce_bal_weight.fit(X_train, y_train, epochs=nb_epoch, batch_size=nb_batch,\n",
    "#                      sample_weight = ((X_train['Amount'] - min(X_train['Amount'])/max(X_train['Amount']))))"
   ]
  },
  {
   "cell_type": "code",
   "execution_count": 29,
   "metadata": {},
   "outputs": [
    {
     "name": "stdout",
     "output_type": "stream",
     "text": [
      "Epoch 1/8\n",
      "228/228 [==============================] - 1s 6ms/step - loss: -0.0834 - accuracy: 0.4214 - auc: 0.3915\n",
      "Epoch 2/8\n",
      "228/228 [==============================] - 1s 6ms/step - loss: -0.6929 - accuracy: 0.0624 - auc: 0.0310\n",
      "Epoch 3/8\n",
      "228/228 [==============================] - 1s 6ms/step - loss: -2.6272 - accuracy: 0.0729 - auc: 0.0365\n",
      "Epoch 4/8\n",
      "228/228 [==============================] - 2s 8ms/step - loss: -2.9731 - accuracy: 0.1227 - auc: 0.0780\n",
      "Epoch 5/8\n",
      "228/228 [==============================] - 2s 8ms/step - loss: -3.0377 - accuracy: 0.1466 - auc: 0.1039\n",
      "Epoch 6/8\n",
      "228/228 [==============================] - 2s 7ms/step - loss: -3.0596 - accuracy: 0.1582 - auc: 0.1186\n",
      "Epoch 7/8\n",
      "228/228 [==============================] - 1s 6ms/step - loss: -3.0710 - accuracy: 0.1653 - auc: 0.1286\n",
      "Epoch 8/8\n",
      "228/228 [==============================] - 1s 6ms/step - loss: -3.0782 - accuracy: 0.1699 - auc: 0.1359\n"
     ]
    },
    {
     "data": {
      "text/plain": [
       "<tensorflow.python.keras.callbacks.History at 0x1421352e0>"
      ]
     },
     "execution_count": 29,
     "metadata": {},
     "output_type": "execute_result"
    }
   ],
   "source": [
    "mod_ce_weight.fit(X_train, y_train, epochs=nb_epoch, batch_size=nb_batch, , callbacks=[time_focal],\n",
    "                      sample_weight = ((X_train['Amount'] - min(X_train['Amount'])/max(X_train['Amount']))))"
   ]
  },
  {
   "cell_type": "markdown",
   "metadata": {},
   "source": [
    "## evaluate our models."
   ]
  },
  {
   "cell_type": "code",
   "execution_count": 30,
   "metadata": {},
   "outputs": [
    {
     "name": "stdout",
     "output_type": "stream",
     "text": [
      "57/57 [==============================] - 0s 3ms/step - loss: 0.0037 - accuracy: 0.9986\n"
     ]
    }
   ],
   "source": [
    "score = mod_focal.evaluate(X_test, y_test, batch_size=1000) #evaluate fit using ??? method."
   ]
  },
  {
   "cell_type": "code",
   "execution_count": 31,
   "metadata": {},
   "outputs": [],
   "source": [
    "# TO DO: instead of confusion matrix, use the ML things they tend to use: accuracy, and th eother two."
   ]
  },
  {
   "cell_type": "code",
   "execution_count": 32,
   "metadata": {},
   "outputs": [
    {
     "data": {
      "image/png": "[encoded data removed]",
      "text/plain": [
       "<Figure size 360x360 with 2 Axes>"
      ]
     },
     "metadata": {},
     "output_type": "display_data"
    }
   ],
   "source": [
    "%matplotlib inline\n",
    "from sklearn import metrics\n",
    "import matplotlib.pyplot as plt\n",
    "import seaborn as sns\n",
    "sns.set(font_scale=2)\n",
    "predictions = mod_focal.predict(X_test, batch_size=1000)\n",
    "\n",
    "LABELS = ['Real','Fraud'] \n",
    "\n",
    "max_test = np.argmax(y_test, axis=1)\n",
    "max_predictions = np.argmax(predictions, axis=1)\n",
    "confusion_matrix = metrics.confusion_matrix(max_test, max_predictions)\n",
    "\n",
    "plt.figure(figsize=(5, 5))\n",
    "sns.heatmap(confusion_matrix, xticklabels=LABELS, yticklabels=LABELS, annot=True, fmt=\"d\", annot_kws={\"size\": 20});\n",
    "plt.title(\"Confusion matrix\", fontsize=20)\n",
    "plt.ylabel('True label', fontsize=20)\n",
    "plt.xlabel('Predicted label', fontsize=20)\n",
    "plt.show()"
   ]
  },
  {
   "cell_type": "code",
   "execution_count": 33,
   "metadata": {},
   "outputs": [
    {
     "data": {
      "text/plain": [
       "80"
      ]
     },
     "execution_count": 33,
     "metadata": {},
     "output_type": "execute_result"
    }
   ],
   "source": [
    "values = confusion_matrix.view()\n",
    "error_count = values.sum() - np.trace(values)\n",
    "error_count"
   ]
  },
  {
   "cell_type": "markdown",
   "metadata": {},
   "source": [
    "#### new metric: amount of money lost by company due to fraud. (assuming they reimburse all fraud cases)"
   ]
  },
  {
   "cell_type": "code",
   "execution_count": 34,
   "metadata": {},
   "outputs": [
    {
     "name": "stdout",
     "output_type": "stream",
     "text": [
      "total monetary loss: 13329.390000000003\n"
     ]
    }
   ],
   "source": [
    "#number of fraud cases categorizes as real -> get the amount of money\n",
    "X_temp = X_orig.iloc[X_test.index]['Amount']\n",
    "total_monetary_loss = sum(X_temp[(max_test != max_predictions) & (max_test == 1)])\n",
    "print(\"total monetary loss: \" + str(total_monetary_loss))"
   ]
  },
  {
   "cell_type": "code",
   "execution_count": null,
   "metadata": {},
   "outputs": [],
   "source": []
  },
  {
   "cell_type": "code",
   "execution_count": 35,
   "metadata": {},
   "outputs": [
    {
     "data": {
      "text/plain": [
       "{'loss': [0.04030396416783333,\n",
       "  0.013264745473861694,\n",
       "  0.00903990212827921,\n",
       "  0.007154874503612518,\n",
       "  0.005991247016936541,\n",
       "  0.005192243959754705,\n",
       "  0.004618451930582523,\n",
       "  0.00418832479044795],\n",
       " 'accuracy': [0.994202196598053,\n",
       "  0.9982224702835083,\n",
       "  0.9982224702835083,\n",
       "  0.9982224702835083,\n",
       "  0.9982224702835083,\n",
       "  0.998240053653717,\n",
       "  0.9982970952987671,\n",
       "  0.9983585476875305]}"
      ]
     },
     "execution_count": 35,
     "metadata": {},
     "output_type": "execute_result"
    }
   ],
   "source": [
    "hist_focal.history"
   ]
  },
  {
   "cell_type": "code",
   "execution_count": 36,
   "metadata": {},
   "outputs": [
    {
     "data": {
      "image/png": "[encoded data removed]",
      "text/plain": [
       "<Figure size 432x288 with 1 Axes>"
      ]
     },
     "metadata": {},
     "output_type": "display_data"
    }
   ],
   "source": [
    "#plots , https://wandb.ai/site/articles/plotting-keras-history\n",
    "#https://stackoverflow.com/questions/41908379/keras-plot-training-validation-and-test-set-accuracy\n",
    "\n",
    "# Get training and test loss histories\n",
    "training_loss = hist_focal.history['loss']\n",
    "test_loss = hist_focal.history['accuracy']\n",
    "\n",
    "\n",
    "# Create count of the number of epochs\n",
    "epoch_count = range(1, len(training_loss) + 1)\n",
    "\n",
    "# Visualize loss history\n",
    "plt.plot(epoch_count, training_loss, 'r--')\n",
    "plt.plot(epoch_count, test_loss, 'b-')\n",
    "plt.legend(['Training Loss', 'Test Loss'])\n",
    "plt.xlabel('Epoch')\n",
    "plt.ylabel('Loss')\n",
    "plt.show();"
   ]
  },
  {
   "cell_type": "code",
   "execution_count": 37,
   "metadata": {},
   "outputs": [],
   "source": [
    "## Time"
   ]
  },
  {
   "cell_type": "code",
   "execution_count": 38,
   "metadata": {},
   "outputs": [
    {
     "data": {
      "text/plain": [
       "[<matplotlib.lines.Line2D at 0x142c58a30>]"
      ]
     },
     "execution_count": 38,
     "metadata": {},
     "output_type": "execute_result"
    },
    {
     "data": {
      "image/png": "[encoded data removed]",
      "text/plain": [
       "<Figure size 432x288 with 1 Axes>"
      ]
     },
     "metadata": {},
     "output_type": "display_data"
    }
   ],
   "source": [
    "temp = np.cumsum(time_focal.times)\n",
    "plt.plot(test_loss,temp, 'r--')"
   ]
  },
  {
   "cell_type": "code",
   "execution_count": 39,
   "metadata": {},
   "outputs": [
    {
     "data": {
      "text/plain": [
       "[<matplotlib.lines.Line2D at 0x153025a90>]"
      ]
     },
     "execution_count": 39,
     "metadata": {},
     "output_type": "execute_result"
    },
    {
     "data": {
      "image/png": "[encoded data removed]",
      "text/plain": [
       "<Figure size 432x288 with 1 Axes>"
      ]
     },
     "metadata": {},
     "output_type": "display_data"
    }
   ],
   "source": [
    "plt.plot(epoch_count,temp, 'r--')"
   ]
  }
 ],
 "metadata": {
  "kernelspec": {
   "display_name": "Python 3",
   "language": "python",
   "name": "python3"
  },
  "language_info": {
   "codemirror_mode": {
    "name": "ipython",
    "version": 3
   },
   "file_extension": ".py",
   "mimetype": "text/x-python",
   "name": "python",
   "nbconvert_exporter": "python",
   "pygments_lexer": "ipython3",
   "version": "3.8.5"
  }
 },
 "nbformat": 4,
 "nbformat_minor": 4
}
